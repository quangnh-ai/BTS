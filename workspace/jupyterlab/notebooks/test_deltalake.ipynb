{
 "cells": [
  {
   "cell_type": "code",
   "execution_count": 1,
   "id": "72a62ccf-03d3-469a-b9fa-103459e8088f",
   "metadata": {
    "tags": []
   },
   "outputs": [],
   "source": [
    "import os\n",
    "import glob\n",
    "import pandas as pd\n",
    "import random\n",
    "import pyspark\n",
    "# from delta import *\n",
    "# from pyspark.sql import SparkSession"
   ]
  },
  {
   "cell_type": "code",
   "execution_count": 2,
   "id": "27c39e99-792e-4a09-ac00-6e8c3a5a6548",
   "metadata": {
    "tags": []
   },
   "outputs": [
    {
     "name": "stderr",
     "output_type": "stream",
     "text": [
      "Warning: Ignoring non-Spark config property: fs.s3a.endpoint\n",
      "Warning: Ignoring non-Spark config property: fs.s3a.connection.ssl.enabled\n"
     ]
    },
    {
     "name": "stdout",
     "output_type": "stream",
     "text": [
      "23/05/28 06:40:57 WARN NativeCodeLoader: Unable to load native-hadoop library for your platform... using builtin-java classes where applicable\n"
     ]
    },
    {
     "name": "stderr",
     "output_type": "stream",
     "text": [
      "Setting default log level to \"WARN\".\n",
      "To adjust logging level use sc.setLogLevel(newLevel). For SparkR, use setLogLevel(newLevel).\n"
     ]
    }
   ],
   "source": [
    "spark_session = (\n",
    "    pyspark.sql.SparkSession.builder\n",
    "    .appName('Test Deltalake')\n",
    "    .master('spark://spark-master:7077') \n",
    "    .config(\"spark.executor.memory\", '2G')\n",
    "    .config(\"spark.executor.cores\", '2')\n",
    "    .config(\"spark.driver.memory\", '2G')\n",
    "    .config(\"spark.driver.cores\", '2')\n",
    "    .config(\"spark.hadoop.fs.s3a.access.key\", 'minioadmin')\n",
    "    .config(\"spark.hadoop.fs.s3a.secret.key\", 'minioadmin')\n",
    "    .config(\"fs.s3a.endpoint\", \"http://minio:9000\")\n",
    "    .config(\"fs.s3a.connection.ssl.enabled\", \"false\")\n",
    "    .config(\"spark.hadoop.fs.s3a.path.style.access\", \"true\")\n",
    "    .config(\"spark.hadoop.fs.s3a.impl\", \"org.apache.hadoop.fs.s3a.S3AFileSystem\")\n",
    "    .config('spark.hadoop.fs.s3a.aws.credentials.provider', 'org.apache.hadoop.fs.s3a.SimpleAWSCredentialsProvider')\n",
    "    .config(\"spark.sql.extensions\", \"io.delta.sql.DeltaSparkSessionExtension\")\n",
    "    .config(\"spark.sql.catalog.spark_catalog\", \"org.apache.spark.sql.delta.catalog.DeltaCatalog\")\n",
    "    .config('spark.jars','./jars/aws-java-sdk-bundle-1.11.1026.jar')\n",
    "    .config('spark.jars','./jars/hadoop-aws-3.3.2.jar')\n",
    "    .config('spark.jars','./jars/delta-core_2.12-2.3.0.jar')\n",
    "    .config('spark.jars', './jars/delta-storage-2.3.0.jar')\n",
    "    .getOrCreate()\n",
    ")\n",
    "# my_packages = [\"org.apache.hadoop:hadoop-aws:3.3.2\", ]\n",
    "# spark = configure_spark_with_delta_pip(builder, extra_packages=my_packages).getOrCreate()\n",
    "# spark = configure_spark_with_delta_pip(builder).getOrCreate()"
   ]
  },
  {
   "cell_type": "code",
   "execution_count": 4,
   "id": "ffee54a9-2b20-4d78-8724-52117d72af0e",
   "metadata": {
    "tags": []
   },
   "outputs": [
    {
     "name": "stderr",
     "output_type": "stream",
     "text": [
      "                                                                                \r"
     ]
    },
    {
     "name": "stdout",
     "output_type": "stream",
     "text": [
      "23/05/28 06:41:42 WARN package: Truncated the string representation of a plan since it was too large. This behavior can be adjusted by setting 'spark.sql.debug.maxToStringFields'.\n"
     ]
    },
    {
     "name": "stderr",
     "output_type": "stream",
     "text": [
      "                                                                                \r"
     ]
    }
   ],
   "source": [
    "data = spark_session.range(0, 5)\n",
    "data.write.format(\"delta\").mode(\"overwrite\").save(\"s3a://delta-lake/test-delta-table-jupyter\")"
   ]
  },
  {
   "cell_type": "code",
   "execution_count": 6,
   "id": "dce1032f-2d04-4f47-b8f3-47ac560d60c1",
   "metadata": {
    "tags": []
   },
   "outputs": [],
   "source": [
    "spark_session.stop()"
   ]
  },
  {
   "cell_type": "code",
   "execution_count": null,
   "id": "18aadf53-b99c-4aa5-b98d-abafd1b0e841",
   "metadata": {},
   "outputs": [],
   "source": []
  }
 ],
 "metadata": {
  "kernelspec": {
   "display_name": "Python 3 (ipykernel)",
   "language": "python",
   "name": "python3"
  },
  "language_info": {
   "codemirror_mode": {
    "name": "ipython",
    "version": 3
   },
   "file_extension": ".py",
   "mimetype": "text/x-python",
   "name": "python",
   "nbconvert_exporter": "python",
   "pygments_lexer": "ipython3",
   "version": "3.10.11"
  }
 },
 "nbformat": 4,
 "nbformat_minor": 5
}
