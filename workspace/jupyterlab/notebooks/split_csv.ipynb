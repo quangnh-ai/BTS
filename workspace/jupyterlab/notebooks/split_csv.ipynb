{
 "cells": [
  {
   "cell_type": "code",
   "execution_count": 38,
   "id": "565b48ff-8e8b-4e40-be39-4906e2fca2fe",
   "metadata": {
    "tags": []
   },
   "outputs": [],
   "source": [
    "import pandas as pd\n",
    "import os"
   ]
  },
  {
   "cell_type": "code",
   "execution_count": 39,
   "id": "d7931e33-85ef-4769-9ec4-93cd0865e467",
   "metadata": {
    "tags": []
   },
   "outputs": [],
   "source": [
    "folder_path = './processed_data'\n",
    "dest_path = './splitted_data'\n",
    "\n",
    "list_files = [name for name in os.listdir(folder_path) if name.endswith('.csv')]\n",
    "list_files.sort()"
   ]
  },
  {
   "cell_type": "code",
   "execution_count": 40,
   "id": "32e005bb-399e-4294-9183-63dc6d2bdca7",
   "metadata": {
    "tags": []
   },
   "outputs": [],
   "source": [
    "def split_file(src_path: str, dest_path: str, file_name: str, chunk_size=10000):\n",
    "    src_file_path = os.path.join(src_path, file_name)\n",
    "    for i, chunk in enumerate(pd.read_csv(src_file_path, chunksize=10000)):\n",
    "        chunk.to_csv(os.path.join(dest_path, f\"{i}_{file_name}\"), index=False)"
   ]
  },
  {
   "cell_type": "code",
   "execution_count": 41,
   "id": "42dd2714-e80f-4636-a0df-5723429c47cd",
   "metadata": {
    "tags": []
   },
   "outputs": [],
   "source": [
    "for file_name in list_files:\n",
    "    split_file(folder_path, dest_path, file_name)"
   ]
  },
  {
   "cell_type": "code",
   "execution_count": null,
   "id": "6a770174-756c-4a91-ae81-c4bc90d4faa5",
   "metadata": {},
   "outputs": [],
   "source": []
  }
 ],
 "metadata": {
  "kernelspec": {
   "display_name": "Python 3 (ipykernel)",
   "language": "python",
   "name": "python3"
  },
  "language_info": {
   "codemirror_mode": {
    "name": "ipython",
    "version": 3
   },
   "file_extension": ".py",
   "mimetype": "text/x-python",
   "name": "python",
   "nbconvert_exporter": "python",
   "pygments_lexer": "ipython3",
   "version": "3.10.8"
  }
 },
 "nbformat": 4,
 "nbformat_minor": 5
}
